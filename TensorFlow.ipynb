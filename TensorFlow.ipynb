{
 "cells": [
  {
   "cell_type": "markdown",
   "metadata": {},
   "source": [
    "# TensorFlow\n",
    "\n",
    "TensorFlow is an open source software library for numerical computation using data flow graphs. In a data flow graph, nodes represent mathematical operations and edges represent the multidimensional data arrays (tensors) communicated between them.\n",
    "\n",
    "![](https://raw.githubusercontent.com/wdbm/abstraction/master/media/2016-05-14T1754Z.png)"
   ]
  },
  {
   "cell_type": "code",
   "execution_count": 1,
   "metadata": {
    "collapsed": true
   },
   "outputs": [],
   "source": [
    "import tensorflow as tf"
   ]
  },
  {
   "cell_type": "code",
   "execution_count": 2,
   "metadata": {
    "collapsed": true
   },
   "outputs": [],
   "source": [
    "tf.TF_CPP_MIN_LOG_LEVEL = 3"
   ]
  },
  {
   "cell_type": "code",
   "execution_count": 3,
   "metadata": {
    "collapsed": false
   },
   "outputs": [
    {
     "name": "stdout",
     "output_type": "stream",
     "text": [
      "hello world\n"
     ]
    }
   ],
   "source": [
    "# Create a constant operation. This operation is added as a node to the default graph.\n",
    "hello = tf.constant(\"hello world\")\n",
    "\n",
    "# Start a TensorFlow session.\n",
    "sess = tf.Session()\n",
    "\n",
    "# Run the operation and get the result.\n",
    "print(sess.run(hello))"
   ]
  },
  {
   "cell_type": "markdown",
   "metadata": {},
   "source": [
    "# tensors, ranks, shapes and types\n",
    "\n",
    "|**rank**|**mathamatical object**|**shape**  |**example**                       |\n",
    "|--------|-----------------------|-----------|----------------------------------|\n",
    "|0       |scalar                 |`[]`       |`3`                               |\n",
    "|1       |vector                 |`[3]`      |`[1. ,2., 3.]`                    |\n",
    "|2       |matrix                 |`[2, 3]`   |`[[1., 2., 3.], [4., 5., 6.]]`    |\n",
    "|3       |3-tensor               |`[2, 1, 3]`|`[[[1., 2., 3.]], [[7., 8., 9.]]]`|\n",
    "|n       |n-tensor               |...        |...                               |\n",
    "\n",
    "|**data type**|Python type|**description**       |\n",
    "|-------------|-----------|----------------------|\n",
    "|`DT_FLOAT`   |`t.float32`|32 bits floating point|\n",
    "|`DT_DOUBLE`  |`t.float64`|64 bits floating point|\n",
    "|`DT_INT8`    |`t.int8`   |8 bits signed integer |\n",
    "|`DT_INT16`   |`t.int16`  |16 bits signed integer|\n",
    "|`DT_INT32`   |`t.int32`  |32 bits signed integer|\n",
    "|`DT_INT64`   |`t.int64`  |64 bits signed integer|"
   ]
  },
  {
   "cell_type": "markdown",
   "metadata": {},
   "source": [
    "# TensorFlow mechanics\n",
    "\n",
    "- 1 Build a graph using TensorFlow operations.\n",
    "- 2 Feed data to TensorFlow and run the graph.\n",
    "- 3 Update variables in the graph and return values."
   ]
  },
  {
   "cell_type": "code",
   "execution_count": 4,
   "metadata": {
    "collapsed": false
   },
   "outputs": [
    {
     "name": "stdout",
     "output_type": "stream",
     "text": [
      "node1: Tensor(\"Const_1:0\", shape=(), dtype=float32)\n",
      "node2: Tensor(\"Const_2:0\", shape=(), dtype=float32)\n",
      "node3: Tensor(\"Add:0\", shape=(), dtype=float32)\n"
     ]
    }
   ],
   "source": [
    "node1 = tf.constant(3.0, tf.float32)\n",
    "node2 = tf.constant(4.0) # (also tf.float32 by default)\n",
    "node3 = tf.add(node1, node2)\n",
    "\n",
    "print(\"node1: {node}\".format(node = node1))\n",
    "print(\"node2: {node}\".format(node = node2))\n",
    "print(\"node3: {node}\".format(node = node3))"
   ]
  },
  {
   "cell_type": "code",
   "execution_count": 5,
   "metadata": {
    "collapsed": false
   },
   "outputs": [
    {
     "name": "stdout",
     "output_type": "stream",
     "text": [
      "sess.run(node1, node2): [3.0, 4.0]\n",
      "sess.run(node3):        7.0\n"
     ]
    }
   ],
   "source": [
    "sess = tf.Session()\n",
    "\n",
    "print(\"sess.run(node1, node2): {result}\".format(\n",
    "    result = sess.run([node1, node2])\n",
    "))\n",
    "print(\"sess.run(node3):        {result}\".format(\n",
    "    result = sess.run(node3)\n",
    "))"
   ]
  },
  {
   "cell_type": "code",
   "execution_count": 6,
   "metadata": {
    "collapsed": false
   },
   "outputs": [
    {
     "name": "stdout",
     "output_type": "stream",
     "text": [
      "7.5\n"
     ]
    }
   ],
   "source": [
    "a = tf.placeholder(tf.float32)\n",
    "b = tf.placeholder(tf.float32)\n",
    "\n",
    "# Create a node that is a shortcut for tf.add(a, b).\n",
    "adder_node = a + b\n",
    "\n",
    "result = sess.run(\n",
    "    adder_node,\n",
    "    feed_dict = {\n",
    "        a: 3,\n",
    "        b: 4.5\n",
    "    }\n",
    ")\n",
    "print(result)"
   ]
  },
  {
   "cell_type": "code",
   "execution_count": 7,
   "metadata": {
    "collapsed": false
   },
   "outputs": [
    {
     "name": "stdout",
     "output_type": "stream",
     "text": [
      "[ 3.  7.]\n"
     ]
    }
   ],
   "source": [
    "result = sess.run(\n",
    "    adder_node,\n",
    "    feed_dict = {\n",
    "        a: [1,3],\n",
    "        b: [2, 4]\n",
    "    }\n",
    ")\n",
    "\n",
    "print(result)"
   ]
  },
  {
   "cell_type": "code",
   "execution_count": 8,
   "metadata": {
    "collapsed": false
   },
   "outputs": [
    {
     "name": "stdout",
     "output_type": "stream",
     "text": [
      "22.5\n"
     ]
    }
   ],
   "source": [
    "add_and_triple = adder_node * 3.\n",
    "\n",
    "result = sess.run(\n",
    "    add_and_triple,\n",
    "    feed_dict = {\n",
    "        a: 3,\n",
    "        b: 4.5\n",
    "    }\n",
    ")\n",
    "\n",
    "print(result)"
   ]
  },
  {
   "cell_type": "markdown",
   "metadata": {},
   "source": [
    "# variables"
   ]
  },
  {
   "cell_type": "code",
   "execution_count": null,
   "metadata": {
    "collapsed": false
   },
   "outputs": [],
   "source": [
    "# Create two variables.\n",
    "weights = tf.Variable(\n",
    "    tf.random_normal(\n",
    "        [784, 200],\n",
    "        stddev = 0.35\n",
    "    ),\n",
    "    name = weights\n",
    ")\n",
    "biases = tf.Variable(\n",
    "    tf.zeros([200]),\n",
    "    name = \"biases\"\n",
    ")\n",
    "\n",
    "# Create an operation to initialize the variables.\n",
    "init_op = tf.global_variables_initializer()\n",
    "\n",
    "# more code\n",
    "\n",
    "with tf.Session() as sess:\n",
    "    sess.run(init_op)"
   ]
  },
  {
   "cell_type": "code",
   "execution_count": null,
   "metadata": {
    "collapsed": true
   },
   "outputs": [],
   "source": []
  }
 ],
 "metadata": {
  "kernelspec": {
   "display_name": "Python 2",
   "language": "python",
   "name": "python2"
  },
  "language_info": {
   "codemirror_mode": {
    "name": "ipython",
    "version": 2
   },
   "file_extension": ".py",
   "mimetype": "text/x-python",
   "name": "python",
   "nbconvert_exporter": "python",
   "pygments_lexer": "ipython2",
   "version": "2.7.12"
  }
 },
 "nbformat": 4,
 "nbformat_minor": 2
}
