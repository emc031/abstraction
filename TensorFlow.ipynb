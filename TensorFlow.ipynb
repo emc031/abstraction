{
 "cells": [
  {
   "cell_type": "markdown",
   "metadata": {
    "deletable": true,
    "editable": true
   },
   "source": [
    "# TensorFlow\n",
    "\n",
    "TensorFlow is an open source software library for numerical computation using data flow graphs. In a data flow graph, nodes represent mathematical operations and edges represent the multidimensional data arrays (tensors) communicated between them.\n",
    "\n",
    "![](https://raw.githubusercontent.com/wdbm/abstraction/master/media/2016-05-14T1754Z.png)"
   ]
  },
  {
   "cell_type": "code",
   "execution_count": 1,
   "metadata": {
    "collapsed": true,
    "deletable": true,
    "editable": true
   },
   "outputs": [],
   "source": [
    "import tensorflow as tf"
   ]
  },
  {
   "cell_type": "code",
   "execution_count": 2,
   "metadata": {
    "collapsed": true,
    "deletable": true,
    "editable": true
   },
   "outputs": [],
   "source": [
    "tf.TF_CPP_MIN_LOG_LEVEL = 3"
   ]
  },
  {
   "cell_type": "code",
   "execution_count": 3,
   "metadata": {
    "collapsed": false,
    "deletable": true,
    "editable": true
   },
   "outputs": [
    {
     "name": "stdout",
     "output_type": "stream",
     "text": [
      "hello world\n"
     ]
    }
   ],
   "source": [
    "# Create a constant operation. This operation is added as a node to the default graph.\n",
    "hello = tf.constant(\"hello world\")\n",
    "\n",
    "# Start a TensorFlow session.\n",
    "sess = tf.Session()\n",
    "\n",
    "# Run the operation and get the result.\n",
    "print(sess.run(hello))"
   ]
  },
  {
   "cell_type": "markdown",
   "metadata": {
    "deletable": true,
    "editable": true
   },
   "source": [
    "# tensors, ranks, shapes and types\n",
    "\n",
    "|**rank**|**mathamatical object**|**shape**  |**example**                       |\n",
    "|--------|-----------------------|-----------|----------------------------------|\n",
    "|0       |scalar                 |`[]`       |`3`                               |\n",
    "|1       |vector                 |`[3]`      |`[1. ,2., 3.]`                    |\n",
    "|2       |matrix                 |`[2, 3]`   |`[[1., 2., 3.], [4., 5., 6.]]`    |\n",
    "|3       |3-tensor               |`[2, 1, 3]`|`[[[1., 2., 3.]], [[7., 8., 9.]]]`|\n",
    "|n       |n-tensor               |...        |...                               |\n",
    "\n",
    "|**data type**|Python type|**description**       |\n",
    "|-------------|-----------|----------------------|\n",
    "|`DT_FLOAT`   |`t.float32`|32 bits floating point|\n",
    "|`DT_DOUBLE`  |`t.float64`|64 bits floating point|\n",
    "|`DT_INT8`    |`t.int8`   |8 bits signed integer |\n",
    "|`DT_INT16`   |`t.int16`  |16 bits signed integer|\n",
    "|`DT_INT32`   |`t.int32`  |32 bits signed integer|\n",
    "|`DT_INT64`   |`t.int64`  |64 bits signed integer|"
   ]
  },
  {
   "cell_type": "markdown",
   "metadata": {
    "deletable": true,
    "editable": true
   },
   "source": [
    "# TensorFlow mechanics\n",
    "\n",
    "- 1 Build a graph using TensorFlow operations.\n",
    "- 2 Feed data to TensorFlow and run the graph.\n",
    "- 3 Update variables in the graph and return values."
   ]
  },
  {
   "cell_type": "code",
   "execution_count": 4,
   "metadata": {
    "collapsed": false,
    "deletable": true,
    "editable": true
   },
   "outputs": [
    {
     "name": "stdout",
     "output_type": "stream",
     "text": [
      "node1: Tensor(\"Const_1:0\", shape=(), dtype=float32)\n",
      "node2: Tensor(\"Const_2:0\", shape=(), dtype=float32)\n",
      "node3: Tensor(\"Add:0\", shape=(), dtype=float32)\n"
     ]
    }
   ],
   "source": [
    "node1 = tf.constant(3.0, tf.float32)\n",
    "node2 = tf.constant(4.0) # (also tf.float32 by default)\n",
    "node3 = tf.add(node1, node2)\n",
    "\n",
    "print(\"node1: {node}\".format(node = node1))\n",
    "print(\"node2: {node}\".format(node = node2))\n",
    "print(\"node3: {node}\".format(node = node3))"
   ]
  },
  {
   "cell_type": "code",
   "execution_count": 5,
   "metadata": {
    "collapsed": false,
    "deletable": true,
    "editable": true
   },
   "outputs": [
    {
     "name": "stdout",
     "output_type": "stream",
     "text": [
      "sess.run(node1, node2): [3.0, 4.0]\n",
      "sess.run(node3):        7.0\n"
     ]
    }
   ],
   "source": [
    "sess = tf.Session()\n",
    "\n",
    "print(\"sess.run(node1, node2): {result}\".format(\n",
    "    result = sess.run([node1, node2])\n",
    "))\n",
    "print(\"sess.run(node3):        {result}\".format(\n",
    "    result = sess.run(node3)\n",
    "))"
   ]
  },
  {
   "cell_type": "code",
   "execution_count": 6,
   "metadata": {
    "collapsed": false,
    "deletable": true,
    "editable": true
   },
   "outputs": [
    {
     "name": "stdout",
     "output_type": "stream",
     "text": [
      "7.5\n"
     ]
    }
   ],
   "source": [
    "a = tf.placeholder(tf.float32)\n",
    "b = tf.placeholder(tf.float32)\n",
    "\n",
    "# Create a node that is a shortcut for tf.add(a, b).\n",
    "adder_node = a + b\n",
    "\n",
    "result = sess.run(\n",
    "    adder_node,\n",
    "    feed_dict = {\n",
    "        a: 3,\n",
    "        b: 4.5\n",
    "    }\n",
    ")\n",
    "print(result)"
   ]
  },
  {
   "cell_type": "code",
   "execution_count": 7,
   "metadata": {
    "collapsed": false,
    "deletable": true,
    "editable": true
   },
   "outputs": [
    {
     "name": "stdout",
     "output_type": "stream",
     "text": [
      "[ 3.  7.]\n"
     ]
    }
   ],
   "source": [
    "result = sess.run(\n",
    "    adder_node,\n",
    "    feed_dict = {\n",
    "        a: [1,3],\n",
    "        b: [2, 4]\n",
    "    }\n",
    ")\n",
    "\n",
    "print(result)"
   ]
  },
  {
   "cell_type": "code",
   "execution_count": 8,
   "metadata": {
    "collapsed": false,
    "deletable": true,
    "editable": true
   },
   "outputs": [
    {
     "name": "stdout",
     "output_type": "stream",
     "text": [
      "22.5\n"
     ]
    }
   ],
   "source": [
    "add_and_triple = adder_node * 3.\n",
    "\n",
    "result = sess.run(\n",
    "    add_and_triple,\n",
    "    feed_dict = {\n",
    "        a: 3,\n",
    "        b: 4.5\n",
    "    }\n",
    ")\n",
    "\n",
    "print(result)"
   ]
  },
  {
   "cell_type": "markdown",
   "metadata": {
    "deletable": true,
    "editable": true
   },
   "source": [
    "# variables"
   ]
  },
  {
   "cell_type": "code",
   "execution_count": 10,
   "metadata": {
    "collapsed": false,
    "deletable": true,
    "editable": true
   },
   "outputs": [],
   "source": [
    "# Create two variables.\n",
    "weights = tf.Variable(\n",
    "    tf.random_normal(\n",
    "        [784, 200],\n",
    "        stddev = 0.35\n",
    "    ),\n",
    "    name = \"weights\"\n",
    ")\n",
    "biases = tf.Variable(\n",
    "    tf.zeros([200]),\n",
    "    name = \"biases\"\n",
    ")\n",
    "\n",
    "# Create an operation to initialize the variables.\n",
    "init_op = tf.global_variables_initializer()\n",
    "\n",
    "# more code\n",
    "\n",
    "with tf.Session() as sess:\n",
    "    sess.run(init_op)"
   ]
  },
  {
   "cell_type": "markdown",
   "metadata": {
    "collapsed": true,
    "deletable": true,
    "editable": true
   },
   "source": [
    "# single variable linear regression\n",
    "\n",
    "- hypothesis: ${H\\left(x\\right)=Wx+b}$\n",
    "\n",
    "- cost function: ${\\textrm{cost}\\left(W,b\\right)=\\frac{1}{m}\\Sigma_{i=1}^{m}\\left(H\\left(x^{i}\\right)-y^{i}\\right)^{2}}$"
   ]
  },
  {
   "cell_type": "code",
   "execution_count": 11,
   "metadata": {
    "collapsed": false,
    "deletable": true,
    "editable": true
   },
   "outputs": [
    {
     "name": "stdout",
     "output_type": "stream",
     "text": [
      "step: 0, cost: 0.327590852976, W: [ 1.69378853], b: [-1.30574894]\n",
      "step: 500, cost: 0.0235481653363, W: [ 1.17822742], b: [-0.40515277]\n",
      "step: 1000, cost: 0.00212170509622, W: [ 1.05349815], b: [-0.12161381]\n",
      "step: 1500, cost: 0.000191168233869, W: [ 1.01605844], b: [-0.0365047]\n",
      "step: 2000, cost: 1.72240033862e-05, W: [ 1.00482023], b: [-0.01095748]\n"
     ]
    }
   ],
   "source": [
    "import tensorflow as tf\n",
    "tf.set_random_seed(777)\n",
    "\n",
    "# Create some data.\n",
    "x_train = [1, 2, 3]\n",
    "y_train = [1, 2, 3]\n",
    "\n",
    "# Build the graph using TensorFlow operations. With the hypothesis H(x) = Wx + b, the goal is to try to find values for W and b to in order to calculate y_data = x_data * W + b. Analytically, W should be 1 and b should be 0.\n",
    "W = tf.Variable(tf.random_normal([1]), name = \"weight\")\n",
    "b = tf.Variable(tf.random_normal([1]), name = \"bias\")\n",
    "\n",
    "# Define the hypothesis.\n",
    "hypothesis = x_train * W + b\n",
    "\n",
    "# Define the cost function.\n",
    "cost = tf.reduce_mean(tf.square(hypothesis - y_train))\n",
    "\n",
    "# Define a method of minimisation, in this case gradient descent. In gradient descent, steps proportional to the negative of the function gradient at the current point are taken. It is the method of steepest descent to find the local minimum of a function.\n",
    "optimizer = tf.train.GradientDescentOptimizer(learning_rate = 0.01)\n",
    "train = optimizer.minimize(cost)\n",
    "\n",
    "# Launch the graph in a session.\n",
    "sess = tf.Session()\n",
    "\n",
    "# Initialize global variables in the graph.\n",
    "sess.run(tf.global_variables_initializer())\n",
    "\n",
    "# Fit.\n",
    "for step in range(2001):\n",
    "    sess.run(train)\n",
    "    if step % 500 == 0:\n",
    "        print(\"step: {step}, cost: {cost}, W: {W}, b: {b}\".format(\n",
    "            step = step,\n",
    "            cost = sess.run(cost),\n",
    "            W    = sess.run(W),\n",
    "            b    = sess.run(b)\n",
    "        ))"
   ]
  },
  {
   "cell_type": "markdown",
   "metadata": {
    "deletable": true,
    "editable": true
   },
   "source": [
    "# placeholders and variables\n",
    "\n",
    "A variable (`tf.Variable`) is used generally for trainable variables such as weights and biases for a model. A placeholder (`tf.placeholder`) is used to feed actual training examples. A variable is set with an initial value on declaration while a placeholder doesn't require an initial value on declaration, but has its value specified at run time using the session `feed_dict`. In TensorFlow, variables are trained over time while placeholders are input data that doesn't change as the model trains (e.g. input images and class labels for the images).\n",
    "\n",
    "A placeholder is a value that is input when TensorFlow is set to run a computation. A variable is a modifiable tensor that exists in TensorFlow's graph of interacting operations."
   ]
  },
  {
   "cell_type": "code",
   "execution_count": 12,
   "metadata": {
    "collapsed": false,
    "deletable": true,
    "editable": true
   },
   "outputs": [
    {
     "name": "stdout",
     "output_type": "stream",
     "text": [
      "step: 0, cost: 19.0289134979, W: [-0.81955934], b: [ 0.05452838]\n",
      "step: 500, cost: 0.0066645629704, W: [ 0.90541184], b: [ 0.21502104]\n",
      "step: 1000, cost: 0.000600479834247, W: [ 0.97160774], b: [ 0.06454235]\n",
      "step: 1500, cost: 5.41025183338e-05, W: [ 0.99147761], b: [ 0.01937346]\n",
      "step: 2000, cost: 4.87493980472e-06, W: [ 0.99744177], b: [ 0.00581537]\n",
      "[ 1.00325716  2.0006988   2.99814057]\n",
      "[ 1.00325716  2.0006988   2.99814057]\n",
      "[ 1.00325716  2.0006988   2.99814057]\n"
     ]
    }
   ],
   "source": [
    "import tensorflow as tf\n",
    "\n",
    "W = tf.Variable(tf.random_normal([1]), name = \"weight\")\n",
    "b = tf.Variable(tf.random_normal([1]), name = \"bias\")\n",
    "\n",
    "# Create placeholders for tensors for x and y data.\n",
    "X = tf.placeholder(tf.float32, shape = [None])\n",
    "Y = tf.placeholder(tf.float32, shape = [None])\n",
    "\n",
    "hypothesis = x_train * W + b\n",
    "cost = tf.reduce_mean(tf.square(hypothesis - y_train))\n",
    "\n",
    "optimizer = tf.train.GradientDescentOptimizer(learning_rate = 0.01)\n",
    "train = optimizer.minimize(cost)\n",
    "\n",
    "sess = tf.Session()\n",
    "sess.run(tf.global_variables_initializer())\n",
    "\n",
    "# Fit.\n",
    "for step in range(2001):\n",
    "    cost_value, W_value, b_value, _ = sess.run(\n",
    "        [cost, W, b, train],\n",
    "        feed_dict = {\n",
    "            X: [1, 2, 3],\n",
    "            Y: [1, 2, 3]\n",
    "        }\n",
    "    )\n",
    "    if step % 500 == 0:\n",
    "        print(\"step: {step}, cost: {cost}, W: {W}, b: {b}\".format(\n",
    "            step = step,\n",
    "            cost = cost_value,\n",
    "            W    = W_value,\n",
    "            b    = b_value\n",
    "        ))\n",
    "\n",
    "# Test the trained model.\n",
    "print(sess.run(hypothesis, feed_dict={X: [5]}))\n",
    "print(sess.run(hypothesis, feed_dict={X: [2.5]}))\n",
    "print(sess.run(hypothesis, feed_dict={X: [1.5, 3.5]}))"
   ]
  },
  {
   "cell_type": "markdown",
   "metadata": {
    "deletable": true,
    "editable": true
   },
   "source": [
    "# cost minimization"
   ]
  },
  {
   "cell_type": "markdown",
   "metadata": {
    "deletable": true,
    "editable": true
   },
   "source": [
    "- simplified hypothesis: ${H\\left(x\\right)=Wx}$\n",
    "\n",
    "- cost function: ${\\textrm{cost}\\left(W\\right)=\\frac{1}{m}\\Sigma_{i=1}^{m}\\left(H\\left(x^{i}\\right)-y^{i}\\right)^{2}}$"
   ]
  },
  {
   "cell_type": "code",
   "execution_count": 13,
   "metadata": {
    "collapsed": false,
    "deletable": true,
    "editable": true
   },
   "outputs": [
    {
     "data": {
      "image/png": "[encoded data removed]",
      "text/plain": [
       "<matplotlib.figure.Figure at 0x7fdd98041490>"
      ]
     },
     "metadata": {},
     "output_type": "display_data"
    }
   ],
   "source": [
    "import tensorflow as tf\n",
    "import matplotlib.pyplot as plt\n",
    "\n",
    "X = [1, 2, 3]\n",
    "Y = [1, 2, 3]\n",
    "\n",
    "W = tf.placeholder(tf.float32)\n",
    "\n",
    "hypothesis = X * W\n",
    "cost = tf.reduce_mean(tf.square(hypothesis - Y))\n",
    "\n",
    "sess = tf.Session()\n",
    "sess.run(tf.global_variables_initializer())\n",
    "\n",
    "# Variables for plotting cost function\n",
    "W_value    = []\n",
    "cost_value = []\n",
    "\n",
    "for i in range(-30, 50):\n",
    "\n",
    "    feed_W = i * 0.1\n",
    "    cost_current, W_current = sess.run(\n",
    "        [cost, W],\n",
    "        feed_dict = {W: feed_W}\n",
    "    )\n",
    "\n",
    "    W_value.append(W_current)\n",
    "    cost_value.append(cost_current)\n",
    "\n",
    "plt.xlabel(\"W\"); plt.ylabel(\"cost(W)\")\n",
    "plt.plot(W_value, cost_value)\n",
    "plt.axes().set_aspect(1 / plt.axes().get_data_ratio())\n",
    "plt.show()"
   ]
  },
  {
   "cell_type": "markdown",
   "metadata": {
    "deletable": true,
    "editable": true
   },
   "source": [
    "# multivariable linear regression\n",
    "\n",
    "- hypothesis defined without using a matrix: ${H\\left(x_{1},x_{2},x_{3}\\right)=x_{1}w_{1}+x_{2}w_{2}+x_{3}w_{3}}$\n",
    "\n",
    "test scores for general psychology:\n",
    "\n",
    "|**${x_{1}}$**|**${x_{2}}$**|**${x_{3}}$**|**${Y}$**|\n",
    "|-------------|-------------|-------------|---------|\n",
    "|73           |80           |75           |152      |\n",
    "|93           |88           |93           |185      |\n",
    "|89           |91           |90           |180      |\n",
    "|96           |98           |100          |196      |\n",
    "|73           |66           |70           |142      |"
   ]
  },
  {
   "cell_type": "code",
   "execution_count": 18,
   "metadata": {
    "collapsed": false,
    "deletable": true,
    "editable": true
   },
   "outputs": [
    {
     "name": "stdout",
     "output_type": "stream",
     "text": [
      "\n",
      "step: 0, cost: 1221.08886719,\n",
      "prediction: [ 123.09977722  145.56219482  144.64117432  158.4463501   109.52912903]\n",
      "\n",
      "step: 500, cost: 5.31126022339,\n",
      "prediction: [ 153.60321045  183.01623535  181.1355896   198.21069336  138.27522278]\n",
      "\n",
      "step: 1000, cost: 4.28688764572,\n",
      "prediction: [ 153.2394104   183.26794434  181.02700806  198.10955811  138.62460327]\n",
      "\n",
      "step: 1500, cost: 3.50106287003,\n",
      "prediction: [ 152.92288208  183.48718262  180.93289185  198.01914978  138.9311676 ]\n",
      "\n",
      "step: 2000, cost: 2.89726567268,\n",
      "prediction: [ 152.6476593   183.67808533  180.85136414  197.93815613  139.20033264]\n"
     ]
    }
   ],
   "source": [
    "import tensorflow as tf\n",
    "\n",
    "x1_data = [ 73.,  93.,  89.,  96.,  73.]\n",
    "x2_data = [ 80.,  88.,  91.,  98.,  66.]\n",
    "x3_data = [ 75.,  93.,  90., 100.,  70.]\n",
    "\n",
    "y_data  = [152., 185., 180., 196., 142.]\n",
    "\n",
    "x1 = tf.placeholder(tf.float32)\n",
    "x2 = tf.placeholder(tf.float32)\n",
    "x3 = tf.placeholder(tf.float32)\n",
    "Y  = tf.placeholder(tf.float32)\n",
    "\n",
    "w1 = tf.Variable(tf.random_normal([1]), name = \"weight1\")\n",
    "w2 = tf.Variable(tf.random_normal([1]), name = \"weight2\")\n",
    "w3 = tf.Variable(tf.random_normal([1]), name = \"weight3\")\n",
    "b  = tf.Variable(tf.random_normal([1]), name = \"bias\"   )\n",
    "\n",
    "hypothesis = x1 * w1 + x2 * w2 + x3 * w3 + b\n",
    "cost       = tf.reduce_mean(tf.square(hypothesis - Y))\n",
    "\n",
    "optimizer = tf.train.GradientDescentOptimizer(learning_rate = 1e-5)\n",
    "train     = optimizer.minimize(cost)\n",
    "\n",
    "sess = tf.Session()\n",
    "sess.run(tf.global_variables_initializer())\n",
    "\n",
    "for step in range(2001):\n",
    "    cost_value, hy_value, _ = sess.run(\n",
    "        [cost, hypothesis, train],\n",
    "        feed_dict = {\n",
    "            x1: x1_data,\n",
    "            x2: x2_data,\n",
    "            x3: x3_data,\n",
    "            Y:  y_data\n",
    "        }\n",
    "    )\n",
    "\n",
    "    if step % 500 == 0:\n",
    "        print(\"\\nstep: {step}, cost: {cost},\\nprediction: {prediction}\".format(\n",
    "            step       = step,\n",
    "            cost       = cost_value,\n",
    "            prediction = hy_value\n",
    "        ))"
   ]
  },
  {
   "cell_type": "markdown",
   "metadata": {
    "deletable": true,
    "editable": true
   },
   "source": [
    "- hypothesis defined using a matrix:\n",
    "\n",
    "$${\n",
    "\\begin{pmatrix}\n",
    "x_{1} & x_{2} & x_{3}\\\\\n",
    "\\end{pmatrix}\n",
    "\\cdot\n",
    "\\begin{pmatrix}\n",
    "w_{1} \\\\\n",
    "w_{2} \\\\\n",
    "w_{3} \\\\\n",
    "\\end{pmatrix}\n",
    "=\n",
    "\\left(x_{1}w_{1}+x_{2}w_{2}+x_{3}w_{3}\\right)\n",
    "}$$\n",
    "\n",
    "$${\n",
    "H\\left(X\\right)=XW\n",
    "}$$"
   ]
  },
  {
   "cell_type": "code",
   "execution_count": 23,
   "metadata": {
    "collapsed": false,
    "deletable": true,
    "editable": true
   },
   "outputs": [
    {
     "name": "stdout",
     "output_type": "stream",
     "text": [
      "\n",
      "step: 0, cost: 65613.796875,\n",
      "prediction:\n",
      "[[-70.3801651 ]\n",
      " [-92.29891968]\n",
      " [-86.97892761]\n",
      " [-94.72986603]\n",
      " [-72.28895569]]\n",
      "\n",
      "step: 500, cost: 13.3241577148,\n",
      "prediction:\n",
      "[[ 156.13461304]\n",
      " [ 181.35145569]\n",
      " [ 181.92817688]\n",
      " [ 198.17074585]\n",
      " [ 136.72895813]]\n",
      "\n",
      "step: 1000, cost: 10.2774734497,\n",
      "prediction:\n",
      "[[ 155.48991394]\n",
      " [ 181.79486084]\n",
      " [ 181.73246765]\n",
      " [ 198.01477051]\n",
      " [ 137.32301331]]\n",
      "\n",
      "step: 1500, cost: 7.95214223862,\n",
      "prediction:\n",
      "[[ 154.92767334]\n",
      " [ 182.18174744]\n",
      " [ 181.56201172]\n",
      " [ 197.8772583 ]\n",
      " [ 137.84272766]]\n",
      "\n",
      "step: 2000, cost: 6.17698717117,\n",
      "prediction:\n",
      "[[ 154.43740845]\n",
      " [ 182.51925659]\n",
      " [ 181.41358948]\n",
      " [ 197.75588989]\n",
      " [ 138.29750061]]\n"
     ]
    }
   ],
   "source": [
    "import tensorflow as tf\n",
    "\n",
    "x_data = [\n",
    "             [ 73.,  80.,  75.],\n",
    "             [ 93.,  88.,  93.],\n",
    "             [ 89.,  91.,  90.],\n",
    "             [ 96.,  98., 100.],\n",
    "             [ 73.,  66.,  70.]\n",
    "         ]\n",
    "y_data = [\n",
    "             [152.],\n",
    "             [185.],\n",
    "             [180.],\n",
    "             [196.],\n",
    "             [142.]\n",
    "         ]\n",
    "\n",
    "X = tf.placeholder(tf.float32, shape=[None, 3])\n",
    "Y = tf.placeholder(tf.float32, shape=[None, 1])\n",
    "\n",
    "W = tf.Variable(tf.random_normal([3, 1]), name = \"weight\")\n",
    "b = tf.Variable(tf.random_normal([1]),    name = \"bias\"  )\n",
    "\n",
    "hypothesis = tf.matmul(X, W) + b\n",
    "cost       = tf.reduce_mean(tf.square(hypothesis - Y))\n",
    "\n",
    "optimizer = tf.train.GradientDescentOptimizer(learning_rate = 1e-5)\n",
    "train     = optimizer.minimize(cost)\n",
    "\n",
    "sess = tf.Session()\n",
    "sess.run(tf.global_variables_initializer())\n",
    "\n",
    "for step in range(2001):\n",
    "    cost_value, hy_value, _ = sess.run(\n",
    "        [cost, hypothesis, train], feed_dict={X: x_data, Y: y_data})\n",
    "    if step % 500 == 0:\n",
    "        print(\"\\nstep: {step}, cost: {cost},\\nprediction:\\n{prediction}\".format(\n",
    "            step       = step,\n",
    "            cost       = cost_value,\n",
    "            prediction = hy_value\n",
    "        ))"
   ]
  },
  {
   "cell_type": "markdown",
   "metadata": {
    "deletable": true,
    "editable": true
   },
   "source": [
    "# reading data\n",
    "\n",
    "There are three main methods to get data into a TensorFlow program:\n",
    "\n",
    "- Feeding: Python code provides the data when running each step.\n",
    "- Reading from files: an input pipeline reads the data from files at the beginning of a graph.\n",
    "- Preloaded data: a constant or variable in the graph holds all the data (for small datasets).\n",
    "\n",
    "## feeding\n",
    "\n",
    "The TensorFlow feed mechanism enables injection of data into any tensor in a computation graph. Thus, a Python computation can feed data directly into the graph. While a tensor can be replaced with feed data, including variables and constants, good practice is to use a placeholder operation node. A `placeholder` exists solely to serve as the target of feeds. It is not initialized and contains no data and it generates an error if it is executed without a feed.\n",
    "\n",
    "## reading from files\n",
    "\n",
    "A typical pipeline for reading records from files has the following stages:\n",
    "\n",
    "- the list of filenames,\n",
    "- optional filename shuffling,\n",
    "- optional epoch limit,\n",
    "- filename queue,\n",
    "- a reader for the file format,\n",
    "- a decoder for a record read by the reader,\n",
    "- optional preprocessing and\n",
    "- an example queue.\n",
    "\n",
    "### file formats\n",
    "\n",
    "Select the reader that matches the input file format and pass the filename queue to the reader's read method. The read method outputs a key identifying the file and record and a scalar string value. One or more of the decoder and conversion operations are used to decode this string into the tensors that make up an example.\n",
    "\n",
    "For CSV files, the `TextLineReader` is available.\n",
    "\n",
    "A recommended format for TensorFlow is a `TFRecords file`, for which the `TFRecordReader` is available.\n",
    "\n",
    "### loading CSV data from file\n",
    "\n",
    "Consider data in an ASCII file of the following CSV form:\n",
    "\n",
    "```\n",
    "73,80,75,152\n",
    "93,88,93,185\n",
    "89,91,90,180\n",
    "96,98,100,196\n",
    "73,66,70,142\n",
    "```\n",
    "\n",
    "This can be loaded naïvely into volatile memory."
   ]
  },
  {
   "cell_type": "code",
   "execution_count": 33,
   "metadata": {
    "collapsed": false,
    "deletable": true,
    "editable": true
   },
   "outputs": [
    {
     "name": "stdout",
     "output_type": "stream",
     "text": [
      "\n",
      "step: 0, cost: 51609.5585938,\n",
      "prediction:\n",
      "[[-63.79487228]\n",
      " [-67.67445374]\n",
      " [-71.40155029]\n",
      " [-78.36078644]\n",
      " [-48.58982849]\n",
      " [-35.12105179]\n",
      " [-61.62991333]\n",
      " [-50.24700165]\n",
      " [-61.59102249]\n",
      " [-57.17690277]\n",
      " [-56.07018661]\n",
      " [-51.35820007]\n",
      " [-73.14998627]\n",
      " [-59.25958252]\n",
      " [-60.58699036]\n",
      " [-70.00971222]\n",
      " [-52.90825653]\n",
      " [-76.68890381]\n",
      " [-71.02648163]\n",
      " [-64.50036621]\n",
      " [-71.00350952]\n",
      " [-64.46847534]\n",
      " [-68.2816925 ]\n",
      " [-62.86103439]\n",
      " [-71.41112518]]\n",
      "\n",
      "step: 500, cost: 26.2186908722,\n",
      "prediction:\n",
      "[[ 150.07359314]\n",
      " [ 188.46737671]\n",
      " [ 181.42796326]\n",
      " [ 197.22511292]\n",
      " [ 146.33998108]\n",
      " [ 108.84999084]\n",
      " [ 145.26107788]\n",
      " [ 104.00246429]\n",
      " [ 177.86880493]\n",
      " [ 165.06048584]\n",
      " [ 142.74584961]\n",
      " [ 144.36811829]\n",
      " [ 187.79936218]\n",
      " [ 157.26612854]\n",
      " [ 147.14537048]\n",
      " [ 190.22279358]\n",
      " [ 152.73558044]\n",
      " [ 171.96018982]\n",
      " [ 177.85375977]\n",
      " [ 158.32931519]\n",
      " [ 171.39477539]\n",
      " [ 176.11552429]\n",
      " [ 162.83569336]\n",
      " [ 152.17649841]\n",
      " [ 194.08108521]]\n",
      "\n",
      "step: 1000, cost: 21.7858181,\n",
      "prediction:\n",
      "[[ 150.3780365 ]\n",
      " [ 188.01315308]\n",
      " [ 181.38641357]\n",
      " [ 197.38243103]\n",
      " [ 145.62249756]\n",
      " [ 108.53780365]\n",
      " [ 145.91044617]\n",
      " [ 105.25130463]\n",
      " [ 177.50161743]\n",
      " [ 165.09494019]\n",
      " [ 142.91879272]\n",
      " [ 144.25445557]\n",
      " [ 187.5333252 ]\n",
      " [ 156.69847107]\n",
      " [ 147.69764709]\n",
      " [ 190.03111267]\n",
      " [ 151.69384766]\n",
      " [ 173.05796814]\n",
      " [ 177.69413757]\n",
      " [ 158.31214905]\n",
      " [ 171.96643066]\n",
      " [ 175.94018555]\n",
      " [ 163.39233398]\n",
      " [ 151.97184753]\n",
      " [ 193.6428833 ]]\n",
      "\n",
      "step: 1500, cost: 18.3485603333,\n",
      "prediction:\n",
      "[[ 150.65576172]\n",
      " [ 187.60858154]\n",
      " [ 181.35401917]\n",
      " [ 197.52157593]\n",
      " [ 144.98640442]\n",
      " [ 108.25173187]\n",
      " [ 146.48138428]\n",
      " [ 106.34899139]\n",
      " [ 177.16543579]\n",
      " [ 165.10324097]\n",
      " [ 143.06945801]\n",
      " [ 144.14411926]\n",
      " [ 187.30708313]\n",
      " [ 156.20980835]\n",
      " [ 148.18023682]\n",
      " [ 189.85543823]\n",
      " [ 150.78691101]\n",
      " [ 174.02487183]\n",
      " [ 177.56436157]\n",
      " [ 158.30769348]\n",
      " [ 172.46786499]\n",
      " [ 175.77868652]\n",
      " [ 163.88313293]\n",
      " [ 151.81015015]\n",
      " [ 193.25665283]]\n",
      "\n",
      "step: 2000, cost: 15.6812143326,\n",
      "prediction:\n",
      "[[ 150.90811157]\n",
      " [ 187.24864197]\n",
      " [ 181.32884216]\n",
      " [ 197.64463806]\n",
      " [ 144.42271423]\n",
      " [ 107.99082947]\n",
      " [ 146.98353577]\n",
      " [ 107.31414032]\n",
      " [ 176.85906982]\n",
      " [ 165.09289551]\n",
      " [ 143.20083618]\n",
      " [ 144.03869629]\n",
      " [ 187.11430359]\n",
      " [ 155.78840637]\n",
      " [ 148.60227966]\n",
      " [ 189.69520569]\n",
      " [ 149.99650574]\n",
      " [ 174.87670898]\n",
      " [ 177.45872498]\n",
      " [ 158.31233215]\n",
      " [ 172.9079895 ]\n",
      " [ 175.63076782]\n",
      " [ 164.31593323]\n",
      " [ 151.68257141]\n",
      " [ 192.91625977]]\n",
      "\n",
      "predictions\n",
      "\n",
      "input data: [[100, 70, 101]],\n",
      "score prediction:\n",
      "[[ 197.1804657]]\n",
      "\n",
      "input data: [[60, 70, 110], [90, 100, 80]],\n",
      "score prediction:\n",
      "[[ 161.40119934]\n",
      " [ 176.64434814]]\n"
     ]
    }
   ],
   "source": [
    "import tensorflow as tf\n",
    "import numpy as np\n",
    "\n",
    "xy = np.loadtxt(\n",
    "    \"data.csv\",\n",
    "    delimiter = \",\",\n",
    "    dtype     = np.float32\n",
    ")\n",
    "x_data = xy[:, 0:-1]\n",
    "y_data = xy[:, [-1]]\n",
    "\n",
    "X = tf.placeholder(tf.float32, shape=[None, 3])\n",
    "Y = tf.placeholder(tf.float32, shape=[None, 1])\n",
    "\n",
    "W = tf.Variable(tf.random_normal([3, 1]), name = \"weight\")\n",
    "b = tf.Variable(tf.random_normal([1]),    name = \"bias\"  )\n",
    "\n",
    "hypothesis = tf.matmul(X, W) + b\n",
    "cost       = tf.reduce_mean(tf.square(hypothesis - Y))\n",
    "\n",
    "optimizer = tf.train.GradientDescentOptimizer(learning_rate=1e-5)\n",
    "train     = optimizer.minimize(cost)\n",
    "\n",
    "sess = tf.Session()\n",
    "sess.run(tf.global_variables_initializer())\n",
    "\n",
    "for step in range(2001):\n",
    "    cost_value, hy_value, _ = sess.run(\n",
    "        [cost, hypothesis, train],\n",
    "        feed_dict = {X: x_data, Y: y_data}\n",
    "    )\n",
    "    if step % 500 == 0:\n",
    "        print(\"\\nstep: {step}, cost: {cost},\\nprediction:\\n{prediction}\".format(\n",
    "            step       = step,\n",
    "            cost       = cost_value,\n",
    "            prediction = hy_value\n",
    "        ))\n",
    "\n",
    "print(\"\\npredictions\")\n",
    "test_x_data = [\n",
    "                  [100, 70, 101]\n",
    "              ]\n",
    "result = sess.run(hypothesis, feed_dict = {X: test_x_data})\n",
    "print(\"\\ninput data: {data},\\nscore prediction:\\n{prediction}\".format(\n",
    "    data       = test_x_data,\n",
    "    prediction = result\n",
    "))\n",
    "\n",
    "test_x_data = [\n",
    "                  [60, 70, 110],\n",
    "                  [90, 100, 80]\n",
    "              ]\n",
    "result = sess.run(hypothesis, feed_dict = {X: test_x_data})\n",
    "print(\"\\ninput data: {data},\\nscore prediction:\\n{prediction}\".format(\n",
    "    data       = test_x_data,\n",
    "    prediction = result\n",
    "))"
   ]
  },
  {
   "cell_type": "markdown",
   "metadata": {},
   "source": [
    "# preprocessing\n",
    "\n",
    "Preprocessing could involve normalization of data, selecting a random slice, adding noise and distortions etc."
   ]
  },
  {
   "cell_type": "markdown",
   "metadata": {
    "collapsed": true,
    "deletable": true,
    "editable": true
   },
   "source": [
    "# threading and queues\n",
    "\n",
    "Queues are a mechanism for asynchronous computation using TensorFlow. Like everything in TensorFlow, a queue is a node in a TensorFlow graph. It is a stateful node, like a variable: other nodes can modify its content. In particular, nodes can enqueue new items to the queue or dequeue existing items from the queue.\n",
    "\n",
    "Queues such as `FIFOQueue` and `RandomShuffleQueue` are important TensorFlow objects for computing tensors asynchronously in a graph. For example, a typical input architecture is to use a RandomShuffleQueue to prepare inputs for training a model:\n",
    "\n",
    "- Multiple threads prepare training examples and push them to the queue.\n",
    "- A training thread executes a training operation that dequeues mini-batches from the queue.\n",
    "\n",
    "The TensorFlow `Session` object is multithreaded, so multiple threads can use the same session and run operations in parallel. However, it is not always easy to implement a Python program that drives threads as described. All threads must be able to stop together, exceptions must be captured and reported and queues should be closed when stopping.\n",
    "\n",
    "TensorFlow provides two classes to help: `tf.Coordinator` and `tf.QueueRunner`. The `Coordinator` class helps multiple threads to stop together and report exceptions to a program that waits for them to stop. The `QueueRunner` class is used to create a number of threads cooperating to enqueue tensors in the same queue."
   ]
  },
  {
   "cell_type": "code",
   "execution_count": null,
   "metadata": {
    "collapsed": false
   },
   "outputs": [],
   "source": [
    "import tensorflow as tf\n",
    "\n",
    "filename_queue = tf.train.string_input_producer(\n",
    "    [\"data.csv\"],\n",
    "    shuffle = False,\n",
    "    name    = \"filename_queue\")\n",
    "\n",
    "reader     = tf.TextLineReader()\n",
    "key, value = reader.read(filename_queue)\n",
    "\n",
    "# Set default values for empty columns and specify the decoded result type.\n",
    "xy = tf.decode_csv(\n",
    "    value,\n",
    "    record_defaults = [[0.], [0.], [0.], [0.]]\n",
    ")\n",
    "\n",
    "# Collect batches of CSV.\n",
    "train_x_batch, train_y_batch =\\\n",
    "    tf.train.batch(\n",
    "        [xy[0:-1], xy[-1:]],\n",
    "        batch_size = 10\n",
    "    )\n",
    "\n",
    "X = tf.placeholder(tf.float32, shape = [None, 3])\n",
    "Y = tf.placeholder(tf.float32, shape = [None, 1])\n",
    "\n",
    "W = tf.Variable(tf.random_normal([3, 1]), name = \"weight\")\n",
    "b = tf.Variable(tf.random_normal([1]),    name = \"bias\")\n",
    "\n",
    "hypothesis = tf.matmul(X, W) + b\n",
    "cost       = tf.reduce_mean(tf.square(hypothesis - Y))\n",
    "\n",
    "optimizer = tf.train.GradientDescentOptimizer(learning_rate=1e-5)\n",
    "train     = optimizer.minimize(cost)\n",
    "\n",
    "sess = tf.Session()\n",
    "sess.run(tf.global_variables_initializer())\n",
    "\n",
    "# Start populating the filename queue.\n",
    "coord   = tf.train.Coordinator()\n",
    "threads = tf.train.start_queue_runners(\n",
    "              sess  = sess,\n",
    "              coord = coord\n",
    "          )\n",
    "\n",
    "for step in range(2001):\n",
    "    x_batch, y_batch = sess.run([train_x_batch, train_y_batch])\n",
    "    cost_value, hy_value, _ = sess.run(\n",
    "        [cost, hypothesis, train],\n",
    "        feed_dict = {X: x_batch, Y: y_batch}\n",
    "    )\n",
    "    if step % 500 == 0:\n",
    "        print(\"\\nstep: {step}, cost: {cost},\\nprediction:\\n{prediction}\".format(\n",
    "            step       = step,\n",
    "            cost       = cost_value,\n",
    "            prediction = hy_value\n",
    "        ))\n",
    "\n",
    "coord.request_stop()\n",
    "coord.join(threads)\n",
    "\n",
    "print(\"\\npredictions\")\n",
    "test_x_data = [\n",
    "                  [100, 70, 101]\n",
    "              ]\n",
    "result = sess.run(hypothesis, feed_dict = {X: test_x_data})\n",
    "print(\"\\ninput data: {data},\\nscore prediction:\\n{prediction}\".format(\n",
    "    data       = test_x_data,\n",
    "    prediction = result\n",
    "))\n",
    "\n",
    "test_x_data = [\n",
    "                  [60, 70, 110],\n",
    "                  [90, 100, 80]\n",
    "              ]\n",
    "result = sess.run(hypothesis, feed_dict = {X: test_x_data})\n",
    "print(\"\\ninput data: {data},\\nscore prediction:\\n{prediction}\".format(\n",
    "    data       = test_x_data,\n",
    "    prediction = result\n",
    "))"
   ]
  },
  {
   "cell_type": "code",
   "execution_count": null,
   "metadata": {
    "collapsed": true
   },
   "outputs": [],
   "source": []
  }
 ],
 "metadata": {
  "kernelspec": {
   "display_name": "Python 2",
   "language": "python",
   "name": "python2"
  },
  "language_info": {
   "codemirror_mode": {
    "name": "ipython",
    "version": 2
   },
   "file_extension": ".py",
   "mimetype": "text/x-python",
   "name": "python",
   "nbconvert_exporter": "python",
   "pygments_lexer": "ipython2",
   "version": "2.7.12"
  }
 },
 "nbformat": 4,
 "nbformat_minor": 2
}
